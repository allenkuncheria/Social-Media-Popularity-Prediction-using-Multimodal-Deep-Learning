{
 "cells": [
  {
   "cell_type": "markdown",
   "metadata": {},
   "source": [
    "# Visual-Social CNN Model"
   ]
  },
  {
   "cell_type": "markdown",
   "metadata": {},
   "source": [
    "## 1 Introduction\n",
    "This notebook is used to perform dimensionality reduction on the input features, and build, train and evaluate the VSCNN model."
   ]
  },
  {
   "cell_type": "code",
   "execution_count": 1,
   "metadata": {},
   "outputs": [
    {
     "name": "stderr",
     "output_type": "stream",
     "text": [
      "/home/allen/anaconda3/lib/python3.9/site-packages/scipy/__init__.py:155: UserWarning: A NumPy version >=1.18.5 and <1.25.0 is required for this version of SciPy (detected version 1.26.3\n",
      "  warnings.warn(f\"A NumPy version >={np_minversion} and <{np_maxversion}\"\n"
     ]
    }
   ],
   "source": [
    "import numpy as np\n",
    "import pandas as pd\n",
    "import matplotlib.pyplot as plt\n",
    "from sklearn.model_selection import train_test_split\n",
    "from sklearn.decomposition import IncrementalPCA\n",
    "# import tensorflow as tf"
   ]
  },
  {
   "cell_type": "markdown",
   "metadata": {},
   "source": [
    "## 2 Workflow\n",
    "The workflow of this activity is as follows.\n",
    "- Data Preparation\n",
    "- Dimensionality Reduction\n",
    "- Model Building\n",
    "- Model Training\n",
    "- Model Evaluation"
   ]
  },
  {
   "cell_type": "markdown",
   "metadata": {},
   "source": [
    "## 3 Data Preparation"
   ]
  },
  {
   "cell_type": "code",
   "execution_count": 2,
   "metadata": {},
   "outputs": [
    {
     "data": {
      "text/plain": [
       "array([[2.7530962e-01, 0.0000000e+00, 4.9113296e-04, ..., 1.3348418e-01,\n",
       "        7.1556407e-01, 0.0000000e+00],\n",
       "       [8.5240042e-01, 5.9496824e-02, 1.3975760e-02, ..., 1.0932244e-01,\n",
       "        9.3736887e-01, 0.0000000e+00],\n",
       "       [2.9872966e-01, 0.0000000e+00, 1.1461298e-01, ..., 0.0000000e+00,\n",
       "        9.1342962e-01, 0.0000000e+00],\n",
       "       ...,\n",
       "       [7.6310253e-01, 0.0000000e+00, 1.5789582e-01, ..., 1.0257700e-02,\n",
       "        7.6832259e-01, 0.0000000e+00],\n",
       "       [3.1485158e-01, 0.0000000e+00, 1.4158221e-01, ..., 1.1133389e-01,\n",
       "        7.2390568e-01, 0.0000000e+00],\n",
       "       [3.9134219e-01, 0.0000000e+00, 4.5967326e-03, ..., 0.0000000e+00,\n",
       "        1.0647962e+00, 0.0000000e+00]], dtype=float32)"
      ]
     },
     "execution_count": 2,
     "metadata": {},
     "output_type": "execute_result"
    }
   ],
   "source": [
    "# Loading VGG-19 image features\n",
    "vgg19_features = np.load('vgg19_features_20%.npy')\n",
    "vgg19_features"
   ]
  },
  {
   "cell_type": "code",
   "execution_count": 3,
   "metadata": {},
   "outputs": [
    {
     "data": {
      "text/plain": [
       "(54650, 512)"
      ]
     },
     "execution_count": 3,
     "metadata": {},
     "output_type": "execute_result"
    }
   ],
   "source": [
    "vgg19_features.shape"
   ]
  },
  {
   "cell_type": "code",
   "execution_count": 4,
   "metadata": {},
   "outputs": [
    {
     "data": {
      "text/html": [
       "<div>\n",
       "<style scoped>\n",
       "    .dataframe tbody tr th:only-of-type {\n",
       "        vertical-align: middle;\n",
       "    }\n",
       "\n",
       "    .dataframe tbody tr th {\n",
       "        vertical-align: top;\n",
       "    }\n",
       "\n",
       "    .dataframe thead th {\n",
       "        text-align: right;\n",
       "    }\n",
       "</style>\n",
       "<table border=\"1\" class=\"dataframe\">\n",
       "  <thead>\n",
       "    <tr style=\"text-align: right;\">\n",
       "      <th></th>\n",
       "      <th>Uid</th>\n",
       "      <th>photo_count</th>\n",
       "      <th>ispro</th>\n",
       "      <th>canbuypro</th>\n",
       "      <th>timezone_timezone_id</th>\n",
       "      <th>timezone_offset</th>\n",
       "      <th>Geoaccuracy</th>\n",
       "      <th>Category</th>\n",
       "      <th>Concept</th>\n",
       "      <th>Subcategory</th>\n",
       "      <th>img_path</th>\n",
       "      <th>label</th>\n",
       "      <th>TitleLen</th>\n",
       "      <th>TagNum</th>\n",
       "      <th>DaysSinceFirstPhoto</th>\n",
       "      <th>DayOfWeek</th>\n",
       "      <th>Month</th>\n",
       "      <th>Time</th>\n",
       "      <th>City</th>\n",
       "      <th>Country</th>\n",
       "    </tr>\n",
       "  </thead>\n",
       "  <tbody>\n",
       "    <tr>\n",
       "      <th>0</th>\n",
       "      <td>3175@N73</td>\n",
       "      <td>999</td>\n",
       "      <td>1</td>\n",
       "      <td>0</td>\n",
       "      <td>8</td>\n",
       "      <td>0</td>\n",
       "      <td>0</td>\n",
       "      <td>Entertainment</td>\n",
       "      <td>rnb</td>\n",
       "      <td>Music</td>\n",
       "      <td>train/3175@N73/16586.jpg</td>\n",
       "      <td>9.67</td>\n",
       "      <td>22</td>\n",
       "      <td>46</td>\n",
       "      <td>1173</td>\n",
       "      <td>Friday</td>\n",
       "      <td>July</td>\n",
       "      <td>Afternoon</td>\n",
       "      <td>Unknown</td>\n",
       "      <td>Unknown</td>\n",
       "    </tr>\n",
       "    <tr>\n",
       "      <th>1</th>\n",
       "      <td>3175@N73</td>\n",
       "      <td>20032</td>\n",
       "      <td>1</td>\n",
       "      <td>0</td>\n",
       "      <td>5</td>\n",
       "      <td>-8</td>\n",
       "      <td>0</td>\n",
       "      <td>Entertainment</td>\n",
       "      <td>rnb</td>\n",
       "      <td>Music</td>\n",
       "      <td>train/3175@N73/16587.jpg</td>\n",
       "      <td>8.85</td>\n",
       "      <td>22</td>\n",
       "      <td>46</td>\n",
       "      <td>1700</td>\n",
       "      <td>Friday</td>\n",
       "      <td>July</td>\n",
       "      <td>Afternoon</td>\n",
       "      <td>Unknown</td>\n",
       "      <td>Unknown</td>\n",
       "    </tr>\n",
       "    <tr>\n",
       "      <th>2</th>\n",
       "      <td>3175@N73</td>\n",
       "      <td>3305</td>\n",
       "      <td>0</td>\n",
       "      <td>1</td>\n",
       "      <td>5</td>\n",
       "      <td>-8</td>\n",
       "      <td>0</td>\n",
       "      <td>Entertainment</td>\n",
       "      <td>rnb</td>\n",
       "      <td>Music</td>\n",
       "      <td>train/3175@N73/16588.jpg</td>\n",
       "      <td>8.67</td>\n",
       "      <td>22</td>\n",
       "      <td>46</td>\n",
       "      <td>1163</td>\n",
       "      <td>Friday</td>\n",
       "      <td>July</td>\n",
       "      <td>Afternoon</td>\n",
       "      <td>Unknown</td>\n",
       "      <td>Unknown</td>\n",
       "    </tr>\n",
       "    <tr>\n",
       "      <th>3</th>\n",
       "      <td>3175@N73</td>\n",
       "      <td>3305</td>\n",
       "      <td>0</td>\n",
       "      <td>1</td>\n",
       "      <td>5</td>\n",
       "      <td>-8</td>\n",
       "      <td>0</td>\n",
       "      <td>Entertainment</td>\n",
       "      <td>rnb</td>\n",
       "      <td>Music</td>\n",
       "      <td>train/3175@N73/16589.jpg</td>\n",
       "      <td>8.61</td>\n",
       "      <td>22</td>\n",
       "      <td>46</td>\n",
       "      <td>1163</td>\n",
       "      <td>Friday</td>\n",
       "      <td>July</td>\n",
       "      <td>Afternoon</td>\n",
       "      <td>Unknown</td>\n",
       "      <td>Unknown</td>\n",
       "    </tr>\n",
       "    <tr>\n",
       "      <th>4</th>\n",
       "      <td>3175@N73</td>\n",
       "      <td>3305</td>\n",
       "      <td>0</td>\n",
       "      <td>1</td>\n",
       "      <td>5</td>\n",
       "      <td>-8</td>\n",
       "      <td>0</td>\n",
       "      <td>Entertainment</td>\n",
       "      <td>rnb</td>\n",
       "      <td>Music</td>\n",
       "      <td>train/3175@N73/16590.jpg</td>\n",
       "      <td>9.00</td>\n",
       "      <td>22</td>\n",
       "      <td>46</td>\n",
       "      <td>1163</td>\n",
       "      <td>Friday</td>\n",
       "      <td>July</td>\n",
       "      <td>Afternoon</td>\n",
       "      <td>Unknown</td>\n",
       "      <td>Unknown</td>\n",
       "    </tr>\n",
       "  </tbody>\n",
       "</table>\n",
       "</div>"
      ],
      "text/plain": [
       "        Uid  photo_count  ispro  canbuypro  timezone_timezone_id  \\\n",
       "0  3175@N73          999      1          0                     8   \n",
       "1  3175@N73        20032      1          0                     5   \n",
       "2  3175@N73         3305      0          1                     5   \n",
       "3  3175@N73         3305      0          1                     5   \n",
       "4  3175@N73         3305      0          1                     5   \n",
       "\n",
       "   timezone_offset  Geoaccuracy       Category Concept Subcategory  \\\n",
       "0                0            0  Entertainment     rnb       Music   \n",
       "1               -8            0  Entertainment     rnb       Music   \n",
       "2               -8            0  Entertainment     rnb       Music   \n",
       "3               -8            0  Entertainment     rnb       Music   \n",
       "4               -8            0  Entertainment     rnb       Music   \n",
       "\n",
       "                   img_path  label  TitleLen  TagNum  DaysSinceFirstPhoto  \\\n",
       "0  train/3175@N73/16586.jpg   9.67        22      46                 1173   \n",
       "1  train/3175@N73/16587.jpg   8.85        22      46                 1700   \n",
       "2  train/3175@N73/16588.jpg   8.67        22      46                 1163   \n",
       "3  train/3175@N73/16589.jpg   8.61        22      46                 1163   \n",
       "4  train/3175@N73/16590.jpg   9.00        22      46                 1163   \n",
       "\n",
       "  DayOfWeek Month       Time     City  Country  \n",
       "0    Friday  July  Afternoon  Unknown  Unknown  \n",
       "1    Friday  July  Afternoon  Unknown  Unknown  \n",
       "2    Friday  July  Afternoon  Unknown  Unknown  \n",
       "3    Friday  July  Afternoon  Unknown  Unknown  \n",
       "4    Friday  July  Afternoon  Unknown  Unknown  "
      ]
     },
     "execution_count": 4,
     "metadata": {},
     "output_type": "execute_result"
    }
   ],
   "source": [
    "# Loading social features\n",
    "social_features = pd.read_json('social_data_sample_20%.json')\n",
    "social_features.head()"
   ]
  },
  {
   "cell_type": "code",
   "execution_count": 5,
   "metadata": {},
   "outputs": [
    {
     "data": {
      "text/plain": [
       "(54650, 20)"
      ]
     },
     "execution_count": 5,
     "metadata": {},
     "output_type": "execute_result"
    }
   ],
   "source": [
    "social_features.shape"
   ]
  },
  {
   "cell_type": "code",
   "execution_count": 6,
   "metadata": {},
   "outputs": [],
   "source": [
    "# Dropping extraneous variables\n",
    "social_features = social_features.drop(columns=['timezone_timezone_id','img_path'])"
   ]
  },
  {
   "cell_type": "code",
   "execution_count": 7,
   "metadata": {},
   "outputs": [
    {
     "name": "stdout",
     "output_type": "stream",
     "text": [
      "<class 'pandas.core.frame.DataFrame'>\n",
      "Index: 54650 entries, 0 to 54649\n",
      "Data columns (total 18 columns):\n",
      " #   Column               Non-Null Count  Dtype  \n",
      "---  ------               --------------  -----  \n",
      " 0   Uid                  54650 non-null  object \n",
      " 1   photo_count          54650 non-null  int64  \n",
      " 2   ispro                54650 non-null  int64  \n",
      " 3   canbuypro            54650 non-null  int64  \n",
      " 4   timezone_offset      54650 non-null  int64  \n",
      " 5   Geoaccuracy          54650 non-null  int64  \n",
      " 6   Category             54650 non-null  object \n",
      " 7   Concept              54650 non-null  object \n",
      " 8   Subcategory          54650 non-null  object \n",
      " 9   label                54650 non-null  float64\n",
      " 10  TitleLen             54650 non-null  int64  \n",
      " 11  TagNum               54650 non-null  int64  \n",
      " 12  DaysSinceFirstPhoto  54650 non-null  int64  \n",
      " 13  DayOfWeek            54650 non-null  object \n",
      " 14  Month                54650 non-null  object \n",
      " 15  Time                 54650 non-null  object \n",
      " 16  City                 54650 non-null  object \n",
      " 17  Country              54650 non-null  object \n",
      "dtypes: float64(1), int64(8), object(9)\n",
      "memory usage: 7.9+ MB\n"
     ]
    }
   ],
   "source": [
    "# Fixing data types of variables\n",
    "social_features.info()"
   ]
  },
  {
   "cell_type": "code",
   "execution_count": 8,
   "metadata": {},
   "outputs": [
    {
     "data": {
      "text/plain": [
       "DayOfWeek\n",
       "Saturday     12517\n",
       "Sunday        9809\n",
       "Friday        8416\n",
       "Thursday      7202\n",
       "Monday        5593\n",
       "Wednesday     5571\n",
       "Tuesday       5542\n",
       "Name: count, dtype: int64"
      ]
     },
     "execution_count": 8,
     "metadata": {},
     "output_type": "execute_result"
    }
   ],
   "source": [
    "# Converting some categorical variables to numeric variables to reduce the dimensionality of the dataset\n",
    "social_features['DayOfWeek'].value_counts()"
   ]
  },
  {
   "cell_type": "code",
   "execution_count": 9,
   "metadata": {},
   "outputs": [],
   "source": [
    "social_features['DayOfWeek'] = social_features['DayOfWeek'].map({\n",
    "    'Monday': 0,\n",
    "    'Tuesday': 1,\n",
    "    'Wednesday': 2,\n",
    "    'Thursday': 3,\n",
    "    'Friday': 4,\n",
    "    'Saturday': 5,\n",
    "    'Sunday': 6\n",
    "})"
   ]
  },
  {
   "cell_type": "code",
   "execution_count": 10,
   "metadata": {},
   "outputs": [
    {
     "data": {
      "text/plain": [
       "DayOfWeek\n",
       "5    12517\n",
       "6     9809\n",
       "4     8416\n",
       "3     7202\n",
       "0     5593\n",
       "2     5571\n",
       "1     5542\n",
       "Name: count, dtype: int64"
      ]
     },
     "execution_count": 10,
     "metadata": {},
     "output_type": "execute_result"
    }
   ],
   "source": [
    "social_features['DayOfWeek'].value_counts()"
   ]
  },
  {
   "cell_type": "code",
   "execution_count": 11,
   "metadata": {},
   "outputs": [
    {
     "data": {
      "text/plain": [
       "Month\n",
       "February     8400\n",
       "January      7310\n",
       "December     7098\n",
       "October      6299\n",
       "November     4566\n",
       "September    4297\n",
       "August       3888\n",
       "July         3684\n",
       "June         3399\n",
       "May          2909\n",
       "March        1588\n",
       "April        1212\n",
       "Name: count, dtype: int64"
      ]
     },
     "execution_count": 11,
     "metadata": {},
     "output_type": "execute_result"
    }
   ],
   "source": [
    "social_features['Month'].value_counts()"
   ]
  },
  {
   "cell_type": "code",
   "execution_count": 12,
   "metadata": {},
   "outputs": [
    {
     "data": {
      "text/plain": [
       "dtype('int64')"
      ]
     },
     "execution_count": 12,
     "metadata": {},
     "output_type": "execute_result"
    }
   ],
   "source": [
    "social_features['Month'] = social_features['Month'].map({\n",
    "    'January': 0,\n",
    "    'February': 1,\n",
    "    'March': 2,\n",
    "    'April': 3,\n",
    "    'May': 4,\n",
    "    'June': 5,\n",
    "    'July': 6,\n",
    "    'August': 7,\n",
    "    'September': 8,\n",
    "    'October': 9,\n",
    "    'November': 10,\n",
    "    'December': 11\n",
    "})\n",
    "social_features['Month'].dtype"
   ]
  },
  {
   "cell_type": "code",
   "execution_count": 13,
   "metadata": {},
   "outputs": [
    {
     "data": {
      "text/plain": [
       "Month\n",
       "1     8400\n",
       "0     7310\n",
       "11    7098\n",
       "9     6299\n",
       "10    4566\n",
       "8     4297\n",
       "7     3888\n",
       "6     3684\n",
       "5     3399\n",
       "4     2909\n",
       "2     1588\n",
       "3     1212\n",
       "Name: count, dtype: int64"
      ]
     },
     "execution_count": 13,
     "metadata": {},
     "output_type": "execute_result"
    }
   ],
   "source": [
    "social_features['Month'].value_counts()"
   ]
  },
  {
   "cell_type": "code",
   "execution_count": 14,
   "metadata": {},
   "outputs": [
    {
     "data": {
      "text/plain": [
       "Time\n",
       "Morning      20304\n",
       "Night        17712\n",
       "Afternoon    12115\n",
       "Evening       4519\n",
       "Name: count, dtype: int64"
      ]
     },
     "execution_count": 14,
     "metadata": {},
     "output_type": "execute_result"
    }
   ],
   "source": [
    "social_features['Time'].value_counts()"
   ]
  },
  {
   "cell_type": "code",
   "execution_count": 15,
   "metadata": {},
   "outputs": [
    {
     "data": {
      "text/plain": [
       "dtype('int64')"
      ]
     },
     "execution_count": 15,
     "metadata": {},
     "output_type": "execute_result"
    }
   ],
   "source": [
    "social_features['Time'] = social_features['Time'].map({\n",
    "    'Morning': 0,\n",
    "    'Afternoon': 1,\n",
    "    'Evening': 2,\n",
    "    'Night': 3\n",
    "})\n",
    "\n",
    "social_features['Time'].dtype"
   ]
  },
  {
   "cell_type": "code",
   "execution_count": 16,
   "metadata": {},
   "outputs": [
    {
     "data": {
      "text/plain": [
       "Time\n",
       "0    20304\n",
       "3    17712\n",
       "1    12115\n",
       "2     4519\n",
       "Name: count, dtype: int64"
      ]
     },
     "execution_count": 16,
     "metadata": {},
     "output_type": "execute_result"
    }
   ],
   "source": [
    "social_features['Time'].value_counts()"
   ]
  },
  {
   "cell_type": "code",
   "execution_count": 17,
   "metadata": {},
   "outputs": [
    {
     "data": {
      "text/plain": [
       "(54650, 5053)"
      ]
     },
     "execution_count": 17,
     "metadata": {},
     "output_type": "execute_result"
    }
   ],
   "source": [
    "# Obtaining dummy variables from categorical variables\n",
    "social_features_dummies = pd.get_dummies(social_features)\n",
    "social_features_dummies.shape"
   ]
  },
  {
   "cell_type": "code",
   "execution_count": 18,
   "metadata": {},
   "outputs": [
    {
     "name": "stdout",
     "output_type": "stream",
     "text": [
      "<class 'pandas.core.frame.DataFrame'>\n",
      "Index: 54650 entries, 0 to 54649\n",
      "Columns: 5053 entries, photo_count to Country_대한민국\n",
      "dtypes: bool(5041), float64(1), int64(11)\n",
      "memory usage: 268.1 MB\n"
     ]
    }
   ],
   "source": [
    "social_features_dummies.info()"
   ]
  },
  {
   "cell_type": "code",
   "execution_count": 19,
   "metadata": {},
   "outputs": [],
   "source": [
    "# Splitting the data into train and test sets\n",
    "social_train, social_test, vgg19_train, vgg19_test = train_test_split(social_features_dummies,vgg19_features,test_size=0.2,random_state=1,stratify=social_features['Uid'])"
   ]
  },
  {
   "cell_type": "code",
   "execution_count": 20,
   "metadata": {},
   "outputs": [
    {
     "name": "stdout",
     "output_type": "stream",
     "text": [
      "(43720, 5053)\n",
      "(10930, 5053)\n",
      "(43720, 512)\n",
      "(10930, 512)\n"
     ]
    }
   ],
   "source": [
    "for x in [social_train, social_test, vgg19_train, vgg19_test]:\n",
    "    print(x.shape)"
   ]
  },
  {
   "cell_type": "code",
   "execution_count": 21,
   "metadata": {},
   "outputs": [],
   "source": [
    "# Extracting the response variable from the datasets\n",
    "y_train = social_train['label']\n",
    "y_test = social_test['label']"
   ]
  },
  {
   "cell_type": "code",
   "execution_count": 22,
   "metadata": {},
   "outputs": [],
   "source": [
    "social_train = social_train.drop(columns='label')\n",
    "social_test = social_test.drop(columns='label')"
   ]
  },
  {
   "cell_type": "markdown",
   "metadata": {},
   "source": [
    "## 4 Dimensionality Reduction"
   ]
  },
  {
   "cell_type": "markdown",
   "metadata": {},
   "source": [
    "### 4.1 Social Features"
   ]
  },
  {
   "cell_type": "code",
   "execution_count": 23,
   "metadata": {},
   "outputs": [
    {
     "data": {
      "text/html": [
       "<style>#sk-container-id-1 {color: black;}#sk-container-id-1 pre{padding: 0;}#sk-container-id-1 div.sk-toggleable {background-color: white;}#sk-container-id-1 label.sk-toggleable__label {cursor: pointer;display: block;width: 100%;margin-bottom: 0;padding: 0.3em;box-sizing: border-box;text-align: center;}#sk-container-id-1 label.sk-toggleable__label-arrow:before {content: \"▸\";float: left;margin-right: 0.25em;color: #696969;}#sk-container-id-1 label.sk-toggleable__label-arrow:hover:before {color: black;}#sk-container-id-1 div.sk-estimator:hover label.sk-toggleable__label-arrow:before {color: black;}#sk-container-id-1 div.sk-toggleable__content {max-height: 0;max-width: 0;overflow: hidden;text-align: left;background-color: #f0f8ff;}#sk-container-id-1 div.sk-toggleable__content pre {margin: 0.2em;color: black;border-radius: 0.25em;background-color: #f0f8ff;}#sk-container-id-1 input.sk-toggleable__control:checked~div.sk-toggleable__content {max-height: 200px;max-width: 100%;overflow: auto;}#sk-container-id-1 input.sk-toggleable__control:checked~label.sk-toggleable__label-arrow:before {content: \"▾\";}#sk-container-id-1 div.sk-estimator input.sk-toggleable__control:checked~label.sk-toggleable__label {background-color: #d4ebff;}#sk-container-id-1 div.sk-label input.sk-toggleable__control:checked~label.sk-toggleable__label {background-color: #d4ebff;}#sk-container-id-1 input.sk-hidden--visually {border: 0;clip: rect(1px 1px 1px 1px);clip: rect(1px, 1px, 1px, 1px);height: 1px;margin: -1px;overflow: hidden;padding: 0;position: absolute;width: 1px;}#sk-container-id-1 div.sk-estimator {font-family: monospace;background-color: #f0f8ff;border: 1px dotted black;border-radius: 0.25em;box-sizing: border-box;margin-bottom: 0.5em;}#sk-container-id-1 div.sk-estimator:hover {background-color: #d4ebff;}#sk-container-id-1 div.sk-parallel-item::after {content: \"\";width: 100%;border-bottom: 1px solid gray;flex-grow: 1;}#sk-container-id-1 div.sk-label:hover label.sk-toggleable__label {background-color: #d4ebff;}#sk-container-id-1 div.sk-serial::before {content: \"\";position: absolute;border-left: 1px solid gray;box-sizing: border-box;top: 0;bottom: 0;left: 50%;z-index: 0;}#sk-container-id-1 div.sk-serial {display: flex;flex-direction: column;align-items: center;background-color: white;padding-right: 0.2em;padding-left: 0.2em;position: relative;}#sk-container-id-1 div.sk-item {position: relative;z-index: 1;}#sk-container-id-1 div.sk-parallel {display: flex;align-items: stretch;justify-content: center;background-color: white;position: relative;}#sk-container-id-1 div.sk-item::before, #sk-container-id-1 div.sk-parallel-item::before {content: \"\";position: absolute;border-left: 1px solid gray;box-sizing: border-box;top: 0;bottom: 0;left: 50%;z-index: -1;}#sk-container-id-1 div.sk-parallel-item {display: flex;flex-direction: column;z-index: 1;position: relative;background-color: white;}#sk-container-id-1 div.sk-parallel-item:first-child::after {align-self: flex-end;width: 50%;}#sk-container-id-1 div.sk-parallel-item:last-child::after {align-self: flex-start;width: 50%;}#sk-container-id-1 div.sk-parallel-item:only-child::after {width: 0;}#sk-container-id-1 div.sk-dashed-wrapped {border: 1px dashed gray;margin: 0 0.4em 0.5em 0.4em;box-sizing: border-box;padding-bottom: 0.4em;background-color: white;}#sk-container-id-1 div.sk-label label {font-family: monospace;font-weight: bold;display: inline-block;line-height: 1.2em;}#sk-container-id-1 div.sk-label-container {text-align: center;}#sk-container-id-1 div.sk-container {/* jupyter's `normalize.less` sets `[hidden] { display: none; }` but bootstrap.min.css set `[hidden] { display: none !important; }` so we also need the `!important` here to be able to override the default hidden behavior on the sphinx rendered scikit-learn.org. See: https://github.com/scikit-learn/scikit-learn/issues/21755 */display: inline-block !important;position: relative;}#sk-container-id-1 div.sk-text-repr-fallback {display: none;}</style><div id=\"sk-container-id-1\" class=\"sk-top-container\"><div class=\"sk-text-repr-fallback\"><pre>IncrementalPCA(batch_size=1024)</pre><b>In a Jupyter environment, please rerun this cell to show the HTML representation or trust the notebook. <br />On GitHub, the HTML representation is unable to render, please try loading this page with nbviewer.org.</b></div><div class=\"sk-container\" hidden><div class=\"sk-item\"><div class=\"sk-estimator sk-toggleable\"><input class=\"sk-toggleable__control sk-hidden--visually\" id=\"sk-estimator-id-1\" type=\"checkbox\" checked><label for=\"sk-estimator-id-1\" class=\"sk-toggleable__label sk-toggleable__label-arrow\">IncrementalPCA</label><div class=\"sk-toggleable__content\"><pre>IncrementalPCA(batch_size=1024)</pre></div></div></div></div></div>"
      ],
      "text/plain": [
       "IncrementalPCA(batch_size=1024)"
      ]
     },
     "execution_count": 23,
     "metadata": {},
     "output_type": "execute_result"
    }
   ],
   "source": [
    "# Obtaining principal components of social features\n",
    "pca = IncrementalPCA(batch_size=1024)\n",
    "pca.fit(social_train)"
   ]
  },
  {
   "cell_type": "code",
   "execution_count": 24,
   "metadata": {},
   "outputs": [
    {
     "name": "stderr",
     "output_type": "stream",
     "text": [
      "/tmp/ipykernel_64264/4099540559.py:6: UserWarning: FigureCanvasAgg is non-interactive, and thus cannot be shown\n",
      "  fig.show()\n"
     ]
    },
    {
     "data": {
      "image/png": "[encoded data removed]",
      "text/plain": [
       "<Figure size 640x480 with 1 Axes>"
      ]
     },
     "metadata": {},
     "output_type": "display_data"
    }
   ],
   "source": [
    "# Creating a scree plot\n",
    "fig, ax = plt.subplots()\n",
    "ax.plot(pca.explained_variance_ratio_[:15], 'o-')\n",
    "ax.set_xlabel('Principal component')\n",
    "ax.set_ylabel('Proportion of variance explained')\n",
    "fig.show()"
   ]
  },
  {
   "cell_type": "code",
   "execution_count": 25,
   "metadata": {},
   "outputs": [
    {
     "data": {
      "text/plain": [
       "99.99999996869931"
      ]
     },
     "execution_count": 25,
     "metadata": {},
     "output_type": "execute_result"
    }
   ],
   "source": [
    "pca.explained_variance_ratio_[:14].sum()*100"
   ]
  },
  {
   "cell_type": "markdown",
   "metadata": {},
   "source": [
    "Although the first principal component explains almost all the variance, we will use 14 principal components, which together explain 99.9% of the variance."
   ]
  },
  {
   "cell_type": "code",
   "execution_count": 26,
   "metadata": {},
   "outputs": [
    {
     "name": "stdout",
     "output_type": "stream",
     "text": [
      "(43720, 14)\n",
      "(10930, 14)\n"
     ]
    }
   ],
   "source": [
    "social_train_reduced = pca.transform(social_train)[:,:14]\n",
    "social_test_reduced = pca.transform(social_test)[:,:14]\n",
    "print(social_train_reduced.shape)\n",
    "print(social_test_reduced.shape)"
   ]
  },
  {
   "cell_type": "code",
   "execution_count": 27,
   "metadata": {},
   "outputs": [],
   "source": [
    "np.save('social_train_reduced.npy',social_train_reduced)\n",
    "np.save('social_test_reduced.npy',social_test_reduced)"
   ]
  },
  {
   "cell_type": "markdown",
   "metadata": {},
   "source": [
    "### 4.2 Image Features"
   ]
  },
  {
   "cell_type": "code",
   "execution_count": 28,
   "metadata": {},
   "outputs": [
    {
     "data": {
      "text/html": [
       "<style>#sk-container-id-2 {color: black;}#sk-container-id-2 pre{padding: 0;}#sk-container-id-2 div.sk-toggleable {background-color: white;}#sk-container-id-2 label.sk-toggleable__label {cursor: pointer;display: block;width: 100%;margin-bottom: 0;padding: 0.3em;box-sizing: border-box;text-align: center;}#sk-container-id-2 label.sk-toggleable__label-arrow:before {content: \"▸\";float: left;margin-right: 0.25em;color: #696969;}#sk-container-id-2 label.sk-toggleable__label-arrow:hover:before {color: black;}#sk-container-id-2 div.sk-estimator:hover label.sk-toggleable__label-arrow:before {color: black;}#sk-container-id-2 div.sk-toggleable__content {max-height: 0;max-width: 0;overflow: hidden;text-align: left;background-color: #f0f8ff;}#sk-container-id-2 div.sk-toggleable__content pre {margin: 0.2em;color: black;border-radius: 0.25em;background-color: #f0f8ff;}#sk-container-id-2 input.sk-toggleable__control:checked~div.sk-toggleable__content {max-height: 200px;max-width: 100%;overflow: auto;}#sk-container-id-2 input.sk-toggleable__control:checked~label.sk-toggleable__label-arrow:before {content: \"▾\";}#sk-container-id-2 div.sk-estimator input.sk-toggleable__control:checked~label.sk-toggleable__label {background-color: #d4ebff;}#sk-container-id-2 div.sk-label input.sk-toggleable__control:checked~label.sk-toggleable__label {background-color: #d4ebff;}#sk-container-id-2 input.sk-hidden--visually {border: 0;clip: rect(1px 1px 1px 1px);clip: rect(1px, 1px, 1px, 1px);height: 1px;margin: -1px;overflow: hidden;padding: 0;position: absolute;width: 1px;}#sk-container-id-2 div.sk-estimator {font-family: monospace;background-color: #f0f8ff;border: 1px dotted black;border-radius: 0.25em;box-sizing: border-box;margin-bottom: 0.5em;}#sk-container-id-2 div.sk-estimator:hover {background-color: #d4ebff;}#sk-container-id-2 div.sk-parallel-item::after {content: \"\";width: 100%;border-bottom: 1px solid gray;flex-grow: 1;}#sk-container-id-2 div.sk-label:hover label.sk-toggleable__label {background-color: #d4ebff;}#sk-container-id-2 div.sk-serial::before {content: \"\";position: absolute;border-left: 1px solid gray;box-sizing: border-box;top: 0;bottom: 0;left: 50%;z-index: 0;}#sk-container-id-2 div.sk-serial {display: flex;flex-direction: column;align-items: center;background-color: white;padding-right: 0.2em;padding-left: 0.2em;position: relative;}#sk-container-id-2 div.sk-item {position: relative;z-index: 1;}#sk-container-id-2 div.sk-parallel {display: flex;align-items: stretch;justify-content: center;background-color: white;position: relative;}#sk-container-id-2 div.sk-item::before, #sk-container-id-2 div.sk-parallel-item::before {content: \"\";position: absolute;border-left: 1px solid gray;box-sizing: border-box;top: 0;bottom: 0;left: 50%;z-index: -1;}#sk-container-id-2 div.sk-parallel-item {display: flex;flex-direction: column;z-index: 1;position: relative;background-color: white;}#sk-container-id-2 div.sk-parallel-item:first-child::after {align-self: flex-end;width: 50%;}#sk-container-id-2 div.sk-parallel-item:last-child::after {align-self: flex-start;width: 50%;}#sk-container-id-2 div.sk-parallel-item:only-child::after {width: 0;}#sk-container-id-2 div.sk-dashed-wrapped {border: 1px dashed gray;margin: 0 0.4em 0.5em 0.4em;box-sizing: border-box;padding-bottom: 0.4em;background-color: white;}#sk-container-id-2 div.sk-label label {font-family: monospace;font-weight: bold;display: inline-block;line-height: 1.2em;}#sk-container-id-2 div.sk-label-container {text-align: center;}#sk-container-id-2 div.sk-container {/* jupyter's `normalize.less` sets `[hidden] { display: none; }` but bootstrap.min.css set `[hidden] { display: none !important; }` so we also need the `!important` here to be able to override the default hidden behavior on the sphinx rendered scikit-learn.org. See: https://github.com/scikit-learn/scikit-learn/issues/21755 */display: inline-block !important;position: relative;}#sk-container-id-2 div.sk-text-repr-fallback {display: none;}</style><div id=\"sk-container-id-2\" class=\"sk-top-container\"><div class=\"sk-text-repr-fallback\"><pre>IncrementalPCA()</pre><b>In a Jupyter environment, please rerun this cell to show the HTML representation or trust the notebook. <br />On GitHub, the HTML representation is unable to render, please try loading this page with nbviewer.org.</b></div><div class=\"sk-container\" hidden><div class=\"sk-item\"><div class=\"sk-estimator sk-toggleable\"><input class=\"sk-toggleable__control sk-hidden--visually\" id=\"sk-estimator-id-2\" type=\"checkbox\" checked><label for=\"sk-estimator-id-2\" class=\"sk-toggleable__label sk-toggleable__label-arrow\">IncrementalPCA</label><div class=\"sk-toggleable__content\"><pre>IncrementalPCA()</pre></div></div></div></div></div>"
      ],
      "text/plain": [
       "IncrementalPCA()"
      ]
     },
     "execution_count": 28,
     "metadata": {},
     "output_type": "execute_result"
    }
   ],
   "source": [
    "# Obtaining principal components of image features\n",
    "pca = IncrementalPCA()\n",
    "pca.fit(vgg19_train)"
   ]
  },
  {
   "cell_type": "code",
   "execution_count": 29,
   "metadata": {},
   "outputs": [
    {
     "name": "stderr",
     "output_type": "stream",
     "text": [
      "/tmp/ipykernel_64264/3115495777.py:6: UserWarning: FigureCanvasAgg is non-interactive, and thus cannot be shown\n",
      "  fig.show()\n"
     ]
    },
    {
     "data": {
      "image/png": "[encoded data removed]",
      "text/plain": [
       "<Figure size 640x480 with 1 Axes>"
      ]
     },
     "metadata": {},
     "output_type": "display_data"
    }
   ],
   "source": [
    "# Creating a scree plot\n",
    "fig, ax = plt.subplots()\n",
    "ax.plot(pca.explained_variance_ratio_.cumsum()[:50], 'o-')\n",
    "ax.set_xlabel('Principal component')\n",
    "ax.set_ylabel('Cumulative proportion of variance explained')\n",
    "fig.show()"
   ]
  },
  {
   "cell_type": "code",
   "execution_count": 30,
   "metadata": {},
   "outputs": [
    {
     "data": {
      "text/plain": [
       "56"
      ]
     },
     "execution_count": 30,
     "metadata": {},
     "output_type": "execute_result"
    }
   ],
   "source": [
    "# Obtaining the index of the principal component that explains at least 80% of the variance\n",
    "np.argmax(pca.explained_variance_ratio_.cumsum()>0.80)"
   ]
  },
  {
   "cell_type": "markdown",
   "metadata": {},
   "source": [
    "Thus, we will use 57 principal components that explain over 80% of the variance."
   ]
  },
  {
   "cell_type": "code",
   "execution_count": 31,
   "metadata": {},
   "outputs": [
    {
     "name": "stdout",
     "output_type": "stream",
     "text": [
      "(43720, 57)\n",
      "(10930, 57)\n"
     ]
    }
   ],
   "source": [
    "vgg19_train_reduced = pca.transform(vgg19_train)[:,:57]\n",
    "vgg19_test_reduced = pca.transform(vgg19_test)[:,:57]\n",
    "print(vgg19_train_reduced.shape)\n",
    "print(vgg19_test_reduced.shape)"
   ]
  },
  {
   "cell_type": "code",
   "execution_count": 32,
   "metadata": {},
   "outputs": [],
   "source": [
    "np.save('vgg19_train_reduced.npy',vgg19_train_reduced)\n",
    "np.save('vgg19_test_reduced.npy',vgg19_test_reduced)"
   ]
  },
  {
   "cell_type": "markdown",
   "metadata": {},
   "source": [
    "## 5 Building the VSCNN Model"
   ]
  },
  {
   "cell_type": "markdown",
   "metadata": {},
   "source": [
    "def "
   ]
  }
 ],
 "metadata": {
  "kernelspec": {
   "display_name": "Python 3",
   "language": "python",
   "name": "python3"
  },
  "language_info": {
   "codemirror_mode": {
    "name": "ipython",
    "version": 3
   },
   "file_extension": ".py",
   "mimetype": "text/x-python",
   "name": "python",
   "nbconvert_exporter": "python",
   "pygments_lexer": "ipython3",
   "version": "3.9.18"
  }
 },
 "nbformat": 4,
 "nbformat_minor": 2
}
